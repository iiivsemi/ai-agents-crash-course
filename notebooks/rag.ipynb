{
 "cells": [
  {
   "cell_type": "markdown",
   "id": "568a95f0",
   "metadata": {},
   "source": [
    "# Retrieval-Augmented Generation (RAG)"
   ]
  },
  {
   "cell_type": "code",
   "execution_count": 26,
   "id": "3b442449",
   "metadata": {},
   "outputs": [
    {
     "data": {
      "text/plain": [
       "True"
      ]
     },
     "execution_count": 26,
     "metadata": {},
     "output_type": "execute_result"
    }
   ],
   "source": [
    "import chromadb\n",
    "import dotenv\n",
    "from pathlib import Path\n",
    "from agents import Agent, Runner, function_tool, trace, ModelSettings\n",
    "\n",
    "dotenv.load_dotenv()"
   ]
  },
  {
   "cell_type": "markdown",
   "id": "69af3322",
   "metadata": {},
   "source": [
    "Create a static calorie table that we can use as a tool:"
   ]
  },
  {
   "cell_type": "code",
   "execution_count": 2,
   "id": "5cd4f7ad",
   "metadata": {},
   "outputs": [],
   "source": [
    "# We populated the RAG with the data from the data/calories.csv file in\n",
    "# the rag_setup.ipynb notebook\n",
    "chroma_client = chromadb.PersistentClient(\"../chroma\")\n",
    "nutrition_db = chroma_client.get_collection(name=\"nutrition_db\")"
   ]
  },
  {
   "cell_type": "code",
   "execution_count": 3,
   "id": "aae53855",
   "metadata": {},
   "outputs": [
    {
     "name": "stdout",
     "output_type": "stream",
     "text": [
      "[('calories_per_100g', 89.0), ('food_category', 'fruits'), ('food_item', 'banana'), ('keywords', 'banana_fruits'), ('kj_per_100g', 374.0), ('serving_info', '100g')]\n",
      "Food: Banana\n",
      "        Category: Fruits\n",
      "        Nutritional Information:\n",
      "        - Calories: 89 per 100g\n",
      "        - Energy: 374 kJ per 100g\n",
      "        - Serving size reference: 100g\n",
      "\n",
      "        This is a fruits food item that provides 89 calories per 100 grams.\n",
      "\n",
      "\n",
      "[('calories_per_100g', 50.0), ('food_category', '(fruit)juices'), ('food_item', 'banana juice'), ('keywords', 'banana_juice_(fruit)juices'), ('kj_per_100g', 210.0), ('serving_info', '100ml')]\n",
      "Food: Banana Juice\n",
      "        Category: (Fruit)Juices\n",
      "        Nutritional Information:\n",
      "        - Calories: 50 per 100g\n",
      "        - Energy: 210 kJ per 100g\n",
      "        - Serving size reference: 100ml\n",
      "\n",
      "        This is a (fruit)juices food item that provides 50 calories per 100 grams.\n",
      "\n",
      "\n"
     ]
    }
   ],
   "source": [
    "results = nutrition_db.query(query_texts=[\"banana\"], n_results=2)\n",
    "for i, doc in enumerate(results[\"documents\"][0]):\n",
    "    print(sorted(results[\"metadatas\"][0][i].items()))\n",
    "    print(doc)\n",
    "    print(\"\\n\")"
   ]
  },
  {
   "cell_type": "code",
   "execution_count": 4,
   "id": "fe2a2850",
   "metadata": {},
   "outputs": [],
   "source": [
    "@function_tool\n",
    "def calorie_lookup_tool(query: str, max_results: int = 3) -> str:\n",
    "    \"\"\"\n",
    "    Tool function for a RAG database to look up calorie information for specific food items, but not for meals.\n",
    "\n",
    "    Args:\n",
    "        query: The food item to look up.\n",
    "        max_results: The maximum number of results to return.\n",
    "\n",
    "    Returns:\n",
    "        A string containing the nutrition information.\n",
    "    \"\"\"\n",
    "\n",
    "    results = nutrition_db.query(query_texts=[query], n_results=max_results)\n",
    "\n",
    "    if not results[\"documents\"][0]:\n",
    "        return f\"No nutrition information found for: {query}\"\n",
    "\n",
    "    # Format results for the agent\n",
    "    formatted_results = []\n",
    "    for i, doc in enumerate(results[\"documents\"][0]):\n",
    "        metadata = results[\"metadatas\"][0][i]\n",
    "        food_item = metadata[\"food_item\"].title()\n",
    "        calories = metadata[\"calories_per_100g\"]\n",
    "        category = metadata[\"food_category\"].title()\n",
    "\n",
    "        formatted_results.append(\n",
    "            f\"{food_item} ({category}): {calories} calories per 100g\"\n",
    "        )\n",
    "\n",
    "    return \"Nutrition Information:\\n\" + \"\\n\".join(formatted_results)"
   ]
  },
  {
   "cell_type": "markdown",
   "id": "c4507cd1",
   "metadata": {},
   "source": [
    "Let's test this out: \n",
    "\n",
    "_The following cell only works before you add the `@function_tool` annotation to `calorie_lookup_tool` function_"
   ]
  },
  {
   "cell_type": "code",
   "execution_count": 5,
   "id": "3f07cbdb",
   "metadata": {},
   "outputs": [
    {
     "ename": "TypeError",
     "evalue": "'FunctionTool' object is not callable",
     "output_type": "error",
     "traceback": [
      "\u001b[31m---------------------------------------------------------------------------\u001b[39m",
      "\u001b[31mTypeError\u001b[39m                                 Traceback (most recent call last)",
      "\u001b[36mCell\u001b[39m\u001b[36m \u001b[39m\u001b[32mIn[5]\u001b[39m\u001b[32m, line 1\u001b[39m\n\u001b[32m----> \u001b[39m\u001b[32m1\u001b[39m \u001b[43mcalorie_lookup_tool\u001b[49m\u001b[43m(\u001b[49m\u001b[33;43m'\u001b[39;49m\u001b[33;43mbananas\u001b[39;49m\u001b[33;43m'\u001b[39;49m\u001b[43m)\u001b[49m\n",
      "\u001b[31mTypeError\u001b[39m: 'FunctionTool' object is not callable"
     ]
    }
   ],
   "source": [
    "calorie_lookup_tool('bananas')"
   ]
  },
  {
   "cell_type": "code",
   "execution_count": 6,
   "id": "1fe172e2",
   "metadata": {},
   "outputs": [],
   "source": [
    "calorie_agent = Agent(\n",
    "    name=\"Nutrition Assistant\",\n",
    "    instructions=\"\"\"\n",
    "    You are a helpful nutrition assistant giving out calorie information.\n",
    "    You give concise answers.\n",
    "    If you need to look up calorie information, use the calorie_lookup_tool.\n",
    "    \"\"\",\n",
    "    tools=[calorie_lookup_tool],\n",
    ")"
   ]
  },
  {
   "cell_type": "code",
   "execution_count": 10,
   "id": "1705b2fc",
   "metadata": {},
   "outputs": [
    {
     "name": "stdout",
     "output_type": "stream",
     "text": [
      "Here’s what we have per 100 g:\n",
      "- Apple: 52 kcal per 100 g\n",
      "- Pizza (varies by type):\n",
      "  - Thin crust: 261 kcal per 100 g\n",
      "  - New York style: 169 kcal per 100 g\n",
      "  - Generic pizza: 267 kcal per 100 g\n",
      "\n",
      "To give total calories for “a pizza slice and an apple,” I need the slice weight (in g) and the apple weight (in g). If you want a rough example, using 120 g per slice and a 182 g apple:\n",
      "- Apple: 182 g × 52/100 ≈ 95 kcal\n",
      "- Pizza slice (choose type):\n",
      "  - Thin crust: 120 g × 261/100 ≈ 313 kcal\n",
      "  - New York style: 120 g × 169/100 ≈ 203 kcal\n",
      "  - Generic: 120 g × 267/100 ≈ 320 kcal\n",
      "Total would be Apple ≈ 95 kcal + Slice ≈ 203–313 kcal depending on type. Need your exact weights or preferred pizza type to be precise.\n"
     ]
    }
   ],
   "source": [
    "with trace(\"Nutrition Assistant with RAG\"):\n",
    "    result = await Runner.run(\n",
    "        calorie_agent,\n",
    "        \"How many calories are in total in a pizza slice and an apple? Also give calories per 100g\",\n",
    "    )\n",
    "    print(result.final_output)"
   ]
  },
  {
   "cell_type": "code",
   "execution_count": 29,
   "id": "67c4b8a0",
   "metadata": {},
   "outputs": [],
   "source": [
    "# Test the setup with sample queries\n",
    "chroma_client = chromadb.PersistentClient(\"../chroma\")\n",
    "nutrition_qna = chroma_client.get_collection(name=\"nutrition_qna\")"
   ]
  },
  {
   "cell_type": "code",
   "execution_count": 53,
   "id": "6690ab97",
   "metadata": {},
   "outputs": [],
   "source": [
    "@function_tool\n",
    "def qna_tool(query: str, max_results: int = 3) -> str:\n",
    "    \"\"\"\n",
    "    Tool function for a RAG database to answer questions about nutrition during pregnancy.\n",
    "\n",
    "    Args:\n",
    "        query: question about pregnancy.\n",
    "        max_results: The maximum number of results to return.\n",
    "\n",
    "    Returns:\n",
    "        A string containing the answer to the question about pregnancy.\n",
    "    \"\"\"\n",
    "    print(\"=== Query: ===\", query)\n",
    "    results = nutrition_qna.query(query_texts=[query], n_results=3)\n",
    "\n",
    "    if not results[\"documents\"][0]:\n",
    "        return f\"No information found for: {query}\"\n",
    "\n",
    "    # Format results for the agent\n",
    "    formatted_results = []\n",
    "    for i, doc in enumerate(results[\"documents\"][0]):\n",
    "        formatted_results.append(doc)\n",
    "\n",
    "    return \"Related answers to your question:\\n\" + \"\\n\".join(formatted_results)"
   ]
  },
  {
   "cell_type": "code",
   "execution_count": 54,
   "id": "d8825a16",
   "metadata": {},
   "outputs": [],
   "source": [
    "nutrition_agent = Agent(\n",
    "    name=\"Nutrition Assist for pregnancy\",\n",
    "    instructions=\"\"\"\n",
    "    You are a helpful nutrition assistant giving out nutrition advice for pregnancies.\n",
    "    You give concise answers.\n",
    "    If you need to look up calorie information, use the calorie_lookup_tool.\n",
    "    If are asked a question about nutrition, always use the qna_tool first to see if there is an answer in the knowledge base.\n",
    "    \"\"\",\n",
    "    tools=[qna_tool, calorie_lookup_tool],\n",
    "\n",
    ")"
   ]
  },
  {
   "cell_type": "code",
   "execution_count": 55,
   "id": "229a09bd",
   "metadata": {},
   "outputs": [
    {
     "name": "stdout",
     "output_type": "stream",
     "text": [
      "=== Query: === What nutrients are essential during pregnancy and their daily requirements, plus best foods to eat?\n",
      "Here’s a concise guide.\n",
      "\n",
      "Essential nutrients and daily amounts (pregnancy):\n",
      "- Folate (folic acid): ~600 mcg dietary folate equivalents (DFE) daily\n",
      "  - Best foods: leafy greens, legumes, fortified cereals, citrus, eggs\n",
      "- Iron: ~27 mg/day\n",
      "  - Best foods: lean red meat, poultry, fish, beans, fortified cereals, spinach; pair with vitamin C source to enhance absorption\n",
      "- Calcium: ~1000 mg/day\n",
      "  - Best foods: dairy or fortified plant milks/yogurts, cheese, leafy greens (not oxalate-heavy), sardines with bones\n",
      "- Vitamin D: ~600 IU/day\n",
      "  - Best foods: fortified dairy/plant milks, fatty fish (low-mercury), egg yolks; sun exposure as appropriate\n",
      "- Iodine: ~220 mcg/day\n",
      "  - Best foods: iodized salt, dairy, seafood\n",
      "- Protein: ~71 g/day\n",
      "  - Best foods: lean meats, eggs, dairy, beans, lentils, tofu, nuts/seeds\n",
      "- Omega-3 DHA: ~200–300 mg/day\n",
      "  - Best foods: fatty fish (salmon, sardines) 2 servings/week; algae/oil supplements if needed\n",
      "- Choline: ~450 mg/day\n",
      "  - Best foods: eggs, lean meats, dairy, cruciferous vegetables\n",
      "- Vitamin B12: ~2.6 mcg/day\n",
      "  - Best foods: animal products like meat, fish, eggs, dairy\n",
      "- Zinc: ~11 mg/day\n",
      "  - Best foods: meat, shellfish, dairy, beans, nuts\n",
      "- Magnesium: ~350–400 mg/day\n",
      "  - Best foods: whole grains, nuts/seeds, leafy greens, legumes\n",
      "- Fiber: ~28 g/day\n",
      "  - Best foods: fruits, vegetables, whole grains, legumes\n",
      "- Water: ~2.3 L/day (adjust with activity/ climate)\n",
      "\n",
      "Best foods by nutrient (quick guidance):\n",
      "- Folate: leafy greens, legumes, fortified cereals\n",
      "- Iron: red meat, poultry, fish, lentils, spinach, fortified cereals; vitamin C with iron\n",
      "- Calcium: dairy or fortified alternatives, canned fish with bones\n",
      "- Vitamin D: fortified foods, fatty fish\n",
      "- Iodine: iodized salt, dairy, seafood\n",
      "- Protein: varied animal/plant sources\n",
      "- DHA: fatty fish, algae-based DHA if needed\n",
      "- Choline: eggs, lean meats, dairy\n",
      "- B12: animal products\n",
      "- Zinc: meat, dairy, beans, nuts\n",
      "- Magnesium: nuts, seeds, whole grains, greens\n",
      "- Fiber/water: fruits, veggies, whole grains, legumes; water daily\n",
      "\n",
      "Note: needs vary by trimester and individual factors. Consider a healthcare provider or dietitian for personalized advice and to confirm any supplements.\n"
     ]
    }
   ],
   "source": [
    "with trace(\"Nutrition Qna with RAG\"):\n",
    "    result = await Runner.run(\n",
    "        nutrition_agent,\n",
    "        \"What are the nutrients that pregnant women need? how much is needed daily for each nutrient?  what are the best foods to eat\",\n",
    "    )\n",
    "    print(result.final_output)"
   ]
  }
 ],
 "metadata": {
  "kernelspec": {
   "display_name": "Python 3",
   "language": "python",
   "name": "python3"
  },
  "language_info": {
   "codemirror_mode": {
    "name": "ipython",
    "version": 3
   },
   "file_extension": ".py",
   "mimetype": "text/x-python",
   "name": "python",
   "nbconvert_exporter": "python",
   "pygments_lexer": "ipython3",
   "version": "3.13.5"
  }
 },
 "nbformat": 4,
 "nbformat_minor": 5
}
