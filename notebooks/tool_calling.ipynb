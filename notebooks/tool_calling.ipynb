{
 "cells": [
  {
   "cell_type": "markdown",
   "id": "75c809c1",
   "metadata": {},
   "source": [
    "# Tool Calling"
   ]
  },
  {
   "cell_type": "code",
   "execution_count": 2,
   "id": "3b442449",
   "metadata": {},
   "outputs": [
    {
     "data": {
      "text/plain": [
       "True"
      ]
     },
     "execution_count": 2,
     "metadata": {},
     "output_type": "execute_result"
    }
   ],
   "source": [
    "import dotenv\n",
    "from agents import Agent, ModelSettings, Runner, function_tool, trace\n",
    "\n",
    "dotenv.load_dotenv()"
   ]
  },
  {
   "cell_type": "markdown",
   "id": "69af3322",
   "metadata": {},
   "source": [
    "Create a static calorie table that we can use as a tool:"
   ]
  },
  {
   "cell_type": "code",
   "execution_count": 3,
   "id": "fe2a2850",
   "metadata": {},
   "outputs": [],
   "source": [
    "@function_tool\n",
    "def get_food_calories(food_item: str) -> str:\n",
    "    \"\"\"\n",
    "    Get calorie information for common foods to help with nutrition tracking.\n",
    "\n",
    "    Args:\n",
    "        food_item: Name of the food (e.g., \"apple\", \"banana\")\n",
    "\n",
    "    Returns:\n",
    "        Calorie information per standard serving\n",
    "    \"\"\"\n",
    "    # Simple calorie database - in real world, you'd use USDA API\n",
    "    calorie_data = {\n",
    "        \"apple\": \"80 calories per medium apple (182g)\",\n",
    "        \"banana\": \"105 calories per medium banana (118g)\",\n",
    "        \"broccoli\": \"25 calories per 1 cup chopped (91g)\",\n",
    "        \"almonds\": \"164 calories per 1oz (28g) or about 23 nuts\",\n",
    "    }\n",
    "\n",
    "    food_key = food_item.lower()\n",
    "    if food_key in calorie_data:\n",
    "        return f\"{food_item.title()}: {calorie_data[food_key]}\"\n",
    "    else:\n",
    "        return f\"I don't have calorie data for {food_item} in my database. Try common foods like apple, chicken breast, or rice.\""
   ]
  },
  {
   "cell_type": "markdown",
   "id": "a7f68e79",
   "metadata": {},
   "source": [
    "Let's test this out: \n",
    "\n",
    "_The following cell only works before you add the `@function_tool` annotation to `get_food_calories` function_"
   ]
  },
  {
   "cell_type": "code",
   "execution_count": null,
   "id": "7f9484c8",
   "metadata": {},
   "outputs": [
    {
     "ename": "TypeError",
     "evalue": "'FunctionTool' object is not callable",
     "output_type": "error",
     "traceback": [
      "\u001b[31m---------------------------------------------------------------------------\u001b[39m",
      "\u001b[31mTypeError\u001b[39m                                 Traceback (most recent call last)",
      "\u001b[36mCell\u001b[39m\u001b[36m \u001b[39m\u001b[32mIn[7]\u001b[39m\u001b[32m, line 1\u001b[39m\n\u001b[32m----> \u001b[39m\u001b[32m1\u001b[39m \u001b[43mget_food_calories\u001b[49m\u001b[43m(\u001b[49m\u001b[33;43m'\u001b[39;49m\u001b[33;43mgrapes\u001b[39;49m\u001b[33;43m'\u001b[39;49m\u001b[43m)\u001b[49m\n",
      "\u001b[31mTypeError\u001b[39m: 'FunctionTool' object is not callable"
     ]
    }
   ],
   "source": [
    "get_food_calories('grapes')"
   ]
  },
  {
   "cell_type": "code",
   "execution_count": 4,
   "id": "1fe172e2",
   "metadata": {},
   "outputs": [],
   "source": [
    "calorie_agent = Agent(\n",
    "    name=\"Nutrition Assistant\",\n",
    "    instructions=\"\"\"\n",
    "    You are a helpful nutrition assistant giving out calorie information.\n",
    "    You give concise answers.\n",
    "    Use the get_food_calories for retrieving calorie information.\n",
    "    \"\"\", tools=[get_food_calories])"
   ]
  },
  {
   "cell_type": "code",
   "execution_count": 5,
   "id": "1705b2fc",
   "metadata": {},
   "outputs": [
    {
     "name": "stdout",
     "output_type": "stream",
     "text": [
      "Apple: 80 kcal (medium, ~182 g).  \n",
      "Pineapple: data not available in my database; approx 82 kcal per cup (165 g).  \n",
      "Total ≈ 162 kcal.\n"
     ]
    }
   ],
   "source": [
    "with trace(\"Nutrition Assistant with tools\"):\n",
    "    result = await Runner.run(\n",
    "        calorie_agent, \"How many calories are in total in a apple and a pineapple?\"\n",
    "    )\n",
    "    print(result.final_output)"
   ]
  },
  {
   "cell_type": "markdown",
   "id": "00283275",
   "metadata": {},
   "source": [
    "Enforce tools use:"
   ]
  },
  {
   "cell_type": "code",
   "execution_count": 7,
   "id": "26940407",
   "metadata": {},
   "outputs": [
    {
     "name": "stdout",
     "output_type": "stream",
     "text": [
      "I don’t have exact data for pineapple slice or apple slice. Rough estimate: about 20 calories total (pineapple ~12 kcal + apple ~8 kcal) for small standard slices.\n",
      "\n",
      "If you give me the weights (in grams) of each slice, I’ll calculate precisely. For reference: pineapple ~50 kcal/100 g and apple ~52 kcal/100 g, so total ≈ 0.50 × pineapple_g + 0.52 × apple_g.\n"
     ]
    }
   ],
   "source": [
    "calorie_agent = Agent(\n",
    "    name=\"Nutrition Assistant\",\n",
    "    instructions=\"\"\"\n",
    "    You are a helpful nutrition assistant giving out calorie information.\n",
    "    You give concise answers.\n",
    "    \"\"\",\n",
    "    tools=[get_food_calories],\n",
    "    model_settings=ModelSettings(tool_choice=\"get_food_calories\"),\n",
    ")\n",
    "\n",
    "with trace(\"Nutrition Assistant with tools enforced\"):\n",
    "    result = await Runner.run(\n",
    "        calorie_agent, \"How many calories are in total in a pineapple slice and an apple slice?\"\n",
    "    )\n",
    "    print(result.final_output)"
   ]
  }
 ],
 "metadata": {
  "kernelspec": {
   "display_name": "Python 3",
   "language": "python",
   "name": "python3"
  },
  "language_info": {
   "codemirror_mode": {
    "name": "ipython",
    "version": 3
   },
   "file_extension": ".py",
   "mimetype": "text/x-python",
   "name": "python",
   "nbconvert_exporter": "python",
   "pygments_lexer": "ipython3",
   "version": "3.13.5"
  }
 },
 "nbformat": 4,
 "nbformat_minor": 5
}
