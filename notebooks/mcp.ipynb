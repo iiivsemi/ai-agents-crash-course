{
 "cells": [
  {
   "cell_type": "markdown",
   "id": "b35e6ed2",
   "metadata": {},
   "source": [
    "# MCP"
   ]
  },
  {
   "cell_type": "code",
   "execution_count": 7,
   "id": "f92c9e77",
   "metadata": {},
   "outputs": [
    {
     "data": {
      "text/plain": [
       "True"
      ]
     },
     "execution_count": 7,
     "metadata": {},
     "output_type": "execute_result"
    }
   ],
   "source": [
    "import os\n",
    "\n",
    "import chromadb\n",
    "import dotenv\n",
    "from agents import Agent, Runner, function_tool, trace, WebSearchTool\n",
    "from agents.mcp import MCPServerStreamableHttp\n",
    "\n",
    "dotenv.load_dotenv()"
   ]
  },
  {
   "cell_type": "markdown",
   "id": "8938c970",
   "metadata": {},
   "source": [
    "Let's set up our RAG database connection:"
   ]
  },
  {
   "cell_type": "code",
   "execution_count": 8,
   "id": "79d82b12",
   "metadata": {},
   "outputs": [],
   "source": [
    "chroma_client = chromadb.PersistentClient(path=\"../chroma\")\n",
    "nutrition_db = chroma_client.get_collection(name=\"nutrition_db\")"
   ]
  },
  {
   "cell_type": "code",
   "execution_count": 9,
   "id": "b2fac606",
   "metadata": {},
   "outputs": [],
   "source": [
    "# This is the same code as in the rag.ipynb notebook\n",
    "\n",
    "\n",
    "@function_tool\n",
    "def calorie_lookup_tool(query: str, max_results: int = 3) -> str:\n",
    "    \"\"\"\n",
    "    Tool function for a RAG database to look up calorie information for specific food items, but not for meals.\n",
    "\n",
    "    Args:\n",
    "        query: The food item to look up.\n",
    "        max_results: The maximum number of results to return.\n",
    "\n",
    "    Returns:\n",
    "        A string containing the nutrition information.\n",
    "    \"\"\"\n",
    "\n",
    "    results = nutrition_db.query(query_texts=[query], n_results=max_results)\n",
    "\n",
    "    if not results[\"documents\"][0]:\n",
    "        return f\"No nutrition information found for: {query}\"\n",
    "\n",
    "    # Format results for the agent\n",
    "    formatted_results = []\n",
    "    for i, doc in enumerate(results[\"documents\"][0]):\n",
    "        metadata = results[\"metadatas\"][0][i]\n",
    "        food_item = metadata[\"food_item\"].title()\n",
    "        calories = metadata[\"calories_per_100g\"]\n",
    "        category = metadata[\"food_category\"].title()\n",
    "\n",
    "        formatted_results.append(\n",
    "            f\"{food_item} ({category}): {calories} calories per 100g\"\n",
    "        )\n",
    "\n",
    "    return \"Nutrition Information:\\n\" + \"\\n\".join(formatted_results)"
   ]
  },
  {
   "cell_type": "markdown",
   "id": "af7ae56a",
   "metadata": {},
   "source": [
    "Integrate EXA Search as an MCP:"
   ]
  },
  {
   "cell_type": "code",
   "execution_count": 4,
   "id": "b8446290",
   "metadata": {},
   "outputs": [],
   "source": [
    "# Exa Search MCP code comes here:\n",
    "exa_search_mcp = MCPServerStreamableHttp(\n",
    "     name = \"exa search mcp\",\n",
    "     params={\n",
    "         \"url\": f\"https://mcp.exa.ai/mcp?exaApiKey={os.environ.get('EXA_API_KEY')}\",\n",
    "         \"timeout\": 30\n",
    "     },\n",
    "     client_session_timeout_seconds=30,\n",
    "     cache_tools_list=True,\n",
    "     max_retry_attempts=1\n",
    ")\n",
    "\n",
    "await exa_search_mcp.connect()\n",
    "\n",
    "calorie_agent_with_search = Agent(\n",
    "    name=\"Nutrition Assistant\",\n",
    "    instructions=\"\"\"\n",
    "    * You are a helpful nutrition assistant giving out calorie information.\n",
    "    * You give concise answers.\n",
    "    * You follow this workflow:\n",
    "        0) First, use the calorie_lookup_tool to get the calorie information of the ingredients. But only use the result if it's explicitly for the food requested in the query.\n",
    "        1) If you couldn't find the exact match for the food or you need to look up the ingredients, search the EXA web to figure out the exact ingredients of the meal.\n",
    "        Even if you have the calories in the web search response, you should still use the calorie_lookup_tool to get the calorie\n",
    "        information of the ingredients to make sure the information you provide is consistent.\n",
    "        2) Then, if necessary, use the calorie_lookup_tool to get the calorie information of the ingredients.\n",
    "    * Even if you know the recipe of the meal, always use Exa Search to find the exact recipe and ingredients.\n",
    "    * Once you know the ingredients, use the calorie_lookup_tool to get the calorie information of the individual ingredients.\n",
    "    * If the query is about the meal, in your final output give a list of ingredients with their quantities and calories for a single serving. Also display the total calories.\n",
    "    * Don't use the calorie_lookup_tool more than 10 times.\n",
    "    \"\"\",\n",
    "    tools=[calorie_lookup_tool],\n",
    "    mcp_servers=[exa_search_mcp]\n",
    ")"
   ]
  },
  {
   "cell_type": "markdown",
   "id": "9b5fe9e6",
   "metadata": {},
   "source": [
    "Reference query - shouldn't use ExaSearch:"
   ]
  },
  {
   "cell_type": "code",
   "execution_count": 6,
   "id": "e9440d7e",
   "metadata": {},
   "outputs": [
    {
     "name": "stdout",
     "output_type": "stream",
     "text": [
      "RunResult:\n",
      "- Last agent: Agent(name=\"Nutrition Assistant\", ...)\n",
      "- Final output (str):\n",
      "    A typical English breakfast (standard version) is about 900 kcal per plate.\n",
      "    \n",
      "    Example common ingredients and approximate calories for one serving:\n",
      "    - 2 eggs: ~140 kcal\n",
      "    - 2 bacon rashers: ~90 kcal\n",
      "    - 1 pork sausage: ~230 kcal\n",
      "    - 1/2 cup baked beans: ~120–150 kcal\n",
      "    - 1 grilled tomato: ~20 kcal\n",
      "    - 1/2 cup mushrooms: ~8 kcal\n",
      "    - 2 slices toast with a little butter: ~150–180 kcal\n",
      "    - optional butter for frying/on toast: ~30 kcal\n",
      "    \n",
      "    Total: roughly 900 kcal (range ~750–1000 kcal depending on portion sizes and choices like white vs. whole-grain toast, leaner sausages, extra toppings, etc.).\n",
      "    \n",
      "    Calories per 100 g vary with ingredients and portions but typically around 170–210 kcal per 100 g for a plate that weighs roughly 450–550 g.\n",
      "    \n",
      "    If you tell me the exact ingredients and portions you’re using, I’ll calculate a precise total and per-100 g value.\n",
      "- 2 new item(s)\n",
      "- 1 raw response(s)\n",
      "- 0 input guardrail result(s)\n",
      "- 0 output guardrail result(s)\n",
      "(See `RunResult` for more details)\n"
     ]
    }
   ],
   "source": [
    "with trace(\"Nutrition Assistant with MCP - Only uses calorie_lookup_tool\"):\n",
    "    result = await Runner.run(\n",
    "        calorie_agent_with_search,\n",
    "        \"How many calories are in total in an english breakfast? Also give calories per 100g\",\n",
    "    )\n",
    "    print(result)"
   ]
  },
  {
   "cell_type": "code",
   "execution_count": 22,
   "id": "179fbecb",
   "metadata": {},
   "outputs": [],
   "source": [
    "calorie_agent_with_openai_websearch = Agent(\n",
    "    name=\"Nutrition Assistant for meals with openai websearch\",\n",
    "    instructions=\"\"\"\n",
    "    * You are a helpful nutrition assistant giving out calorie information.\n",
    "    * You give concise answers.\n",
    "    * You follow this workflow:\n",
    "        0) First, use WebSearchTool to figure out the exact ingredients of the meal.\n",
    "        1) Then, if not available using the WebSearchTool, use the calorie_lookup_tool to get the calorie information of the ingredients.\n",
    "    * Even if you know the recipe of the meal, always use the WebSearchTool to find the exact recipe and ingredients.\n",
    "    * If the query is about the meal, in your final output give a list of ingredients with their quantities and calories for a single serving. Also display the total calories.\n",
    "    * Don't use the calorie_lookup_tool more than 10 times.\n",
    "    \"\"\",\n",
    "    tools=[WebSearchTool(), calorie_lookup_tool]\n",
    ")"
   ]
  },
  {
   "cell_type": "code",
   "execution_count": 23,
   "id": "901cef96",
   "metadata": {},
   "outputs": [
    {
     "name": "stdout",
     "output_type": "stream",
     "text": [
      "RunResult:\n",
      "- Last agent: Agent(name=\"Nutrition Assistant for meals with openai websearch\", ...)\n",
      "- Final output (str):\n",
      "    Here’s a representative Full English Breakfast (1 serving) with ingredient quantities and calories:\n",
      "    \n",
      "    - Fried Egg: 60 g — 90 kcal\n",
      "    - Pork Sausages: 110 g — 330 kcal\n",
      "    - Bacon rashers: 70 g — 250 kcal\n",
      "    - Baked Beans in tomato sauce: 150 g — 120 kcal\n",
      "    - Hash browns: 100 g — 280 kcal\n",
      "    - Fried bread: 80 g — 280 kcal\n",
      "    - Grilled Tomato: 80 g — 15 kcal\n",
      "    - Black Pudding: 60 g — 180 kcal\n",
      "    - Butter: 10 g — 75 kcal\n",
      "    \n",
      "    Total: 1,620 kcal for the serving. Calories per 100 g: about 225 kcal. (Exact ingredients and calories taken from a sample Full English Breakfast recipe with per-ingredient breakdown.) ([arise-app.com](https://www.arise-app.com/dish/Full-English-Breakfast?utm_source=openai))\n",
      "    \n",
      "    Note: actual calories vary by ingredients and portion sizes.\n",
      "- 4 new item(s)\n",
      "- 1 raw response(s)\n",
      "- 0 input guardrail result(s)\n",
      "- 0 output guardrail result(s)\n",
      "(See `RunResult` for more details)\n"
     ]
    }
   ],
   "source": [
    "with trace(\"Nutrition Assistant with openai websearchtool\"):\n",
    "    result = await Runner.run(\n",
    "        calorie_agent_with_openai_websearch,\n",
    "        \"How many calories are in total in an english breakfast? Also give calories per 100g\",\n",
    "    )\n",
    "    print(result)"
   ]
  }
 ],
 "metadata": {
  "kernelspec": {
   "display_name": "Python 3",
   "language": "python",
   "name": "python3"
  },
  "language_info": {
   "codemirror_mode": {
    "name": "ipython",
    "version": 3
   },
   "file_extension": ".py",
   "mimetype": "text/x-python",
   "name": "python",
   "nbconvert_exporter": "python",
   "pygments_lexer": "ipython3",
   "version": "3.13.5"
  }
 },
 "nbformat": 4,
 "nbformat_minor": 5
}
